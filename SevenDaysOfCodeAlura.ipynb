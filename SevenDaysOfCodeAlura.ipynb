{
 "cells": [
  {
   "cell_type": "markdown",
   "metadata": {},
   "source": [
    "# 7 Days of Code - Alura\n",
    "## Dia 1"
   ]
  },
  {
   "cell_type": "code",
   "execution_count": 1,
   "metadata": {},
   "outputs": [],
   "source": [
    "#importing data\n",
    "import pandas as pd\n",
    "from datetime import datetime\n",
    "\n",
    "url = 'https://www.senado.gov.br/transparencia/LAI/verba/despesa_ceaps_'\n",
    "ceaps = pd.concat(pd.read_csv(url+str(year)+'.csv', encoding='ISO-8859-1', sep=';', skiprows=1, decimal=',') for year in range(2019,2023))"
   ]
  },
  {
   "cell_type": "code",
   "execution_count": 2,
   "metadata": {},
   "outputs": [
    {
     "name": "stdout",
     "output_type": "stream",
     "text": [
      "<class 'pandas.core.frame.DataFrame'>\n",
      "Int64Index: 56281 entries, 0 to 3748\n",
      "Data columns (total 11 columns):\n",
      " #   Column             Non-Null Count  Dtype  \n",
      "---  ------             --------------  -----  \n",
      " 0   ANO                56281 non-null  int64  \n",
      " 1   MES                56281 non-null  int64  \n",
      " 2   SENADOR            56281 non-null  object \n",
      " 3   TIPO_DESPESA       56281 non-null  object \n",
      " 4   CNPJ_CPF           56281 non-null  object \n",
      " 5   FORNECEDOR         56281 non-null  object \n",
      " 6   DOCUMENTO          54086 non-null  object \n",
      " 7   DATA               56281 non-null  object \n",
      " 8   DETALHAMENTO       31420 non-null  object \n",
      " 9   VALOR_REEMBOLSADO  56281 non-null  float64\n",
      " 10  COD_DOCUMENTO      56281 non-null  int64  \n",
      "dtypes: float64(1), int64(3), object(7)\n",
      "memory usage: 5.2+ MB\n",
      "# de senadores únicos:  140\n",
      "# de fornecedores únicos:  7318\n",
      "# de despesas únicas:  7\n",
      "# de anos únicos:  4\n"
     ]
    },
    {
     "data": {
      "text/plain": [
       "['31/01/0219', '05/05/0202', '29/10/0202']"
      ]
     },
     "execution_count": 2,
     "metadata": {},
     "output_type": "execute_result"
    }
   ],
   "source": [
    "#informações gerais\n",
    "ceaps.info()\n",
    "ceaps.describe()\n",
    "print('# de senadores únicos: ',len(ceaps['SENADOR'].unique()))\n",
    "print('# de fornecedores únicos: ',len(ceaps['FORNECEDOR'].unique()))\n",
    "print('# de despesas únicas: ',len(ceaps['TIPO_DESPESA'].unique()))\n",
    "print('# de anos únicos: ',len(ceaps['ANO'].unique()))\n",
    "# fonte da solução: https://stackoverflow.com/questions/59236780/how-to-check-for-wrong-datetime-entries-python-pandas\n",
    "ceaps['DATA_CORRETA'] = pd.to_datetime(ceaps['DATA'], format=\"%d/%m/%Y\", errors='coerce')\n",
    "date_error_list = ceaps.loc[ceaps['DATA_CORRETA'].isnull()]['DATA'].unique().tolist()\n",
    "date_error_list"
   ]
  },
  {
   "cell_type": "markdown",
   "metadata": {},
   "source": [
    "Apenas 3 entradas erradas, simples de resolver. Se fossem mais casos, eu retiraria as linhas."
   ]
  },
  {
   "cell_type": "code",
   "execution_count": 3,
   "metadata": {},
   "outputs": [
    {
     "data": {
      "text/html": [
       "<div>\n",
       "<style scoped>\n",
       "    .dataframe tbody tr th:only-of-type {\n",
       "        vertical-align: middle;\n",
       "    }\n",
       "\n",
       "    .dataframe tbody tr th {\n",
       "        vertical-align: top;\n",
       "    }\n",
       "\n",
       "    .dataframe thead th {\n",
       "        text-align: right;\n",
       "    }\n",
       "</style>\n",
       "<table border=\"1\" class=\"dataframe\">\n",
       "  <thead>\n",
       "    <tr style=\"text-align: right;\">\n",
       "      <th></th>\n",
       "      <th>ANO</th>\n",
       "      <th>MES</th>\n",
       "      <th>SENADOR</th>\n",
       "      <th>TIPO_DESPESA</th>\n",
       "      <th>CNPJ_CPF</th>\n",
       "      <th>FORNECEDOR</th>\n",
       "      <th>DOCUMENTO</th>\n",
       "      <th>DETALHAMENTO</th>\n",
       "      <th>VALOR_REEMBOLSADO</th>\n",
       "      <th>COD_DOCUMENTO</th>\n",
       "      <th>DATA_CORRETA</th>\n",
       "    </tr>\n",
       "  </thead>\n",
       "  <tbody>\n",
       "    <tr>\n",
       "      <th>3060</th>\n",
       "      <td>2022</td>\n",
       "      <td>2</td>\n",
       "      <td>ROGÉRIO CARVALHO</td>\n",
       "      <td>Passagens aéreas, aquáticas e terrestres nacio...</td>\n",
       "      <td>34.848.898/0001-74</td>\n",
       "      <td>Peakalika Turismo</td>\n",
       "      <td>SRPSJX</td>\n",
       "      <td>Companhia Aérea: LATAM, Localizador: SRPSJX. P...</td>\n",
       "      <td>2260.60</td>\n",
       "      <td>2174993</td>\n",
       "      <td>2002-02-02</td>\n",
       "    </tr>\n",
       "    <tr>\n",
       "      <th>2715</th>\n",
       "      <td>2022</td>\n",
       "      <td>2</td>\n",
       "      <td>PAULO ROCHA</td>\n",
       "      <td>Aluguel de imóveis para escritório político, c...</td>\n",
       "      <td>02.558.157/0001-62</td>\n",
       "      <td>Telefônica do Brasil S.A.</td>\n",
       "      <td>1129495338</td>\n",
       "      <td>NaN</td>\n",
       "      <td>1106.13</td>\n",
       "      <td>2174871</td>\n",
       "      <td>2002-02-11</td>\n",
       "    </tr>\n",
       "    <tr>\n",
       "      <th>208</th>\n",
       "      <td>2021</td>\n",
       "      <td>2</td>\n",
       "      <td>ALESSANDRO VIEIRA</td>\n",
       "      <td>Passagens aéreas, aquáticas e terrestres nacio...</td>\n",
       "      <td>39.827.859/0001-04</td>\n",
       "      <td>MM TOUR</td>\n",
       "      <td>LNXEJH</td>\n",
       "      <td>Companhia Aérea: LATAM, Localizador: LNXEJH. P...</td>\n",
       "      <td>2666.43</td>\n",
       "      <td>2156738</td>\n",
       "      <td>2002-02-19</td>\n",
       "    </tr>\n",
       "    <tr>\n",
       "      <th>12347</th>\n",
       "      <td>2020</td>\n",
       "      <td>3</td>\n",
       "      <td>TASSO JEREISSATI</td>\n",
       "      <td>Contratação de consultorias, assessorias, pesq...</td>\n",
       "      <td>20.647.510/0001-62</td>\n",
       "      <td>FAAV CONSULTORIA ECONOMICA E EMPRESARIAL LTDA</td>\n",
       "      <td>00000061</td>\n",
       "      <td>NaN</td>\n",
       "      <td>14100.00</td>\n",
       "      <td>2143467</td>\n",
       "      <td>2002-03-14</td>\n",
       "    </tr>\n",
       "    <tr>\n",
       "      <th>2740</th>\n",
       "      <td>2022</td>\n",
       "      <td>3</td>\n",
       "      <td>PAULO ROCHA</td>\n",
       "      <td>Passagens aéreas, aquáticas e terrestres nacio...</td>\n",
       "      <td>16.978.175/0001-08</td>\n",
       "      <td>Adria Viagens e Turismo Ltda</td>\n",
       "      <td>GENXJE</td>\n",
       "      <td>Companhia Aérea: LATAM, Localizador: GENXJE. P...</td>\n",
       "      <td>3553.23</td>\n",
       "      <td>2176808</td>\n",
       "      <td>2002-03-16</td>\n",
       "    </tr>\n",
       "  </tbody>\n",
       "</table>\n",
       "</div>"
      ],
      "text/plain": [
       "        ANO  MES            SENADOR  \\\n",
       "3060   2022    2   ROGÉRIO CARVALHO   \n",
       "2715   2022    2        PAULO ROCHA   \n",
       "208    2021    2  ALESSANDRO VIEIRA   \n",
       "12347  2020    3   TASSO JEREISSATI   \n",
       "2740   2022    3        PAULO ROCHA   \n",
       "\n",
       "                                            TIPO_DESPESA            CNPJ_CPF  \\\n",
       "3060   Passagens aéreas, aquáticas e terrestres nacio...  34.848.898/0001-74   \n",
       "2715   Aluguel de imóveis para escritório político, c...  02.558.157/0001-62   \n",
       "208    Passagens aéreas, aquáticas e terrestres nacio...  39.827.859/0001-04   \n",
       "12347  Contratação de consultorias, assessorias, pesq...  20.647.510/0001-62   \n",
       "2740   Passagens aéreas, aquáticas e terrestres nacio...  16.978.175/0001-08   \n",
       "\n",
       "                                          FORNECEDOR   DOCUMENTO  \\\n",
       "3060                               Peakalika Turismo      SRPSJX   \n",
       "2715                       Telefônica do Brasil S.A.  1129495338   \n",
       "208                                          MM TOUR      LNXEJH   \n",
       "12347  FAAV CONSULTORIA ECONOMICA E EMPRESARIAL LTDA    00000061   \n",
       "2740                    Adria Viagens e Turismo Ltda      GENXJE   \n",
       "\n",
       "                                            DETALHAMENTO  VALOR_REEMBOLSADO  \\\n",
       "3060   Companhia Aérea: LATAM, Localizador: SRPSJX. P...            2260.60   \n",
       "2715                                                 NaN            1106.13   \n",
       "208    Companhia Aérea: LATAM, Localizador: LNXEJH. P...            2666.43   \n",
       "12347                                                NaN           14100.00   \n",
       "2740   Companhia Aérea: LATAM, Localizador: GENXJE. P...            3553.23   \n",
       "\n",
       "       COD_DOCUMENTO DATA_CORRETA  \n",
       "3060         2174993   2002-02-02  \n",
       "2715         2174871   2002-02-11  \n",
       "208          2156738   2002-02-19  \n",
       "12347        2143467   2002-03-14  \n",
       "2740         2176808   2002-03-16  "
      ]
     },
     "execution_count": 3,
     "metadata": {},
     "output_type": "execute_result"
    }
   ],
   "source": [
    "# fonte da solução: https://stackoverflow.com/questions/19350806/how-to-convert-columns-into-one-datetime-column-in-pandas\n",
    "correção = {'31/01/0219':'31/01/2019', '05/05/0202': '05/05/2020', '29/10/0202': '29/10/2020'}\n",
    "ceaps['DATA_CORRETA'] = ceaps['DATA_CORRETA'].fillna(pd.to_datetime(ceaps['DATA'].map(correção)))\n",
    "ceaps = ceaps[['ANO', 'MES', 'SENADOR', 'TIPO_DESPESA', 'CNPJ_CPF', 'FORNECEDOR', 'DOCUMENTO', 'DETALHAMENTO', 'VALOR_REEMBOLSADO', 'COD_DOCUMENTO', 'DATA_CORRETA']]\n",
    "ceaps.sort_values('DATA_CORRETA').head()"
   ]
  },
  {
   "cell_type": "code",
   "execution_count": null,
   "metadata": {},
   "outputs": [],
   "source": [
    "ceaps.reset_index(inplace=True)"
   ]
  },
  {
   "cell_type": "code",
   "execution_count": 7,
   "metadata": {},
   "outputs": [
    {
     "data": {
      "text/plain": [
       "<matplotlib.lines.Line2D at 0x26fb3fde0c8>"
      ]
     },
     "execution_count": 7,
     "metadata": {},
     "output_type": "execute_result"
    },
    {
     "data": {
      "image/png": "[encoded data removed]",
      "text/plain": [
       "<Figure size 842.4x595.44 with 1 Axes>"
      ]
     },
     "metadata": {},
     "output_type": "display_data"
    }
   ],
   "source": [
    "### Gráfico desenvolvido em parceria com Luxirio e ArturCGS\n",
    "import seaborn as sns\n",
    "import matplotlib.pyplot as plt\n",
    "sns.set(rc={'figure.figsize':(11.7,8.27)}) #aumentar o tamanho do output do gráfico\n",
    "hist_valor = sns.histplot(data = ceaps, x = \"VALOR_REEMBOLSADO\", log_scale = True, bins = 40)\n",
    "hist_valor.text(x = 4, y = 7800, s =\"Valores reembolsados por senadores\", fontsize = 25, weight = \"bold\")\n",
    "hist_valor.text(x = 12, y = 7400, s =\"entre os anos de 2019 a 2022 (em escala semi log)\", fontsize = 13)\n",
    "hist_valor.set(xlim=(1,100000))\n",
    "plt.xlabel( \"Reembolso em reais (R$)\", fontsize = 16)\n",
    "plt.ylabel( \"Contagem\", fontsize = 16)\n",
    "plt.axvline(ceaps[\"VALOR_REEMBOLSADO\"].mean(), 0,1, color = \"red\", linestyle=\"--\")"
   ]
  }
 ],
 "metadata": {
  "interpreter": {
   "hash": "ab85f652d245f82b14140ec98235d2f935c9861bcdcd9ee86339f7f5a08225d9"
  },
  "kernelspec": {
   "display_name": "Python 3.7.4 64-bit (system)",
   "language": "python",
   "name": "python3"
  },
  "language_info": {
   "codemirror_mode": {
    "name": "ipython",
    "version": 3
   },
   "file_extension": ".py",
   "mimetype": "text/x-python",
   "name": "python",
   "nbconvert_exporter": "python",
   "pygments_lexer": "ipython3",
   "version": "3.7.4"
  },
  "orig_nbformat": 4
 },
 "nbformat": 4,
 "nbformat_minor": 2
}
